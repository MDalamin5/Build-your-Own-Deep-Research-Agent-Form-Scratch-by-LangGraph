{
 "cells": [
  {
   "cell_type": "markdown",
   "id": "86078e72",
   "metadata": {},
   "source": [
    "## **Chat Models**"
   ]
  },
  {
   "cell_type": "code",
   "execution_count": 4,
   "id": "43c8d20d",
   "metadata": {},
   "outputs": [],
   "source": [
    "from dotenv import load_dotenv\n",
    "import os\n",
    "load_dotenv()\n",
    "\n",
    "os.environ[\"GROQ_API_KEY\"] = os.getenv(\"GROQ_API_KEY\")"
   ]
  },
  {
   "cell_type": "code",
   "execution_count": 7,
   "id": "d21791ad",
   "metadata": {},
   "outputs": [],
   "source": [
    "from langchain.chat_models import init_chat_model\n",
    "llm = init_chat_model(\"groq:qwen/qwen3-32b\", temperature=0)\n",
    "\n",
    "response = llm.invoke(\"test line\")"
   ]
  },
  {
   "cell_type": "code",
   "execution_count": 8,
   "id": "d4c1a37a",
   "metadata": {},
   "outputs": [
    {
     "data": {
      "text/plain": [
       "'<think>\\nOkay, the user sent \"test line\". That\\'s pretty short. I need to figure out what they want. Maybe they\\'re just checking if the system is working. Let me see. They might be testing the response time or if the AI is active. I should respond in a friendly way to acknowledge their test. Let me make sure to keep it open-ended in case they have more to say. Maybe something like, \"Hello! It looks like you\\'re testing the waters. How can I assist you today?\" That should cover it. Let me check for any typos and ensure the tone is approachable.\\n</think>\\n\\nHello! It looks like you\\'re testing the waters. How can I assist you today? 😊'"
      ]
     },
     "execution_count": 8,
     "metadata": {},
     "output_type": "execute_result"
    }
   ],
   "source": [
    "response.content"
   ]
  },
  {
   "cell_type": "code",
   "execution_count": 9,
   "id": "f7114e80",
   "metadata": {},
   "outputs": [
    {
     "data": {
      "text/plain": [
       "langchain_core.messages.ai.AIMessage"
      ]
     },
     "execution_count": 9,
     "metadata": {},
     "output_type": "execute_result"
    }
   ],
   "source": [
    "type(response)"
   ]
  },
  {
   "cell_type": "markdown",
   "id": "4dea6c9e",
   "metadata": {},
   "source": [
    "# **Tools**"
   ]
  },
  {
   "cell_type": "code",
   "execution_count": 10,
   "id": "61f21fc5",
   "metadata": {},
   "outputs": [],
   "source": [
    "from langchain.tools import tool\n",
    "\n",
    "@tool\n",
    "def write_email(to: str, subject: str, content: str) -> str:\n",
    "    \"\"\"Write and send email.\"\"\"\n",
    "\n",
    "    return f\"Email sent to {to} with subject {subject} and content: {content}\""
   ]
  },
  {
   "cell_type": "code",
   "execution_count": 11,
   "id": "ac884372",
   "metadata": {},
   "outputs": [
    {
     "data": {
      "text/plain": [
       "langchain_core.tools.structured.StructuredTool"
      ]
     },
     "execution_count": 11,
     "metadata": {},
     "output_type": "execute_result"
    }
   ],
   "source": [
    "type(write_email)"
   ]
  },
  {
   "cell_type": "code",
   "execution_count": 12,
   "id": "a1b48754",
   "metadata": {},
   "outputs": [
    {
     "data": {
      "text/plain": [
       "{'to': {'title': 'To', 'type': 'string'},\n",
       " 'subject': {'title': 'Subject', 'type': 'string'},\n",
       " 'content': {'title': 'Content', 'type': 'string'}}"
      ]
     },
     "execution_count": 12,
     "metadata": {},
     "output_type": "execute_result"
    }
   ],
   "source": [
    "write_email.args"
   ]
  },
  {
   "cell_type": "markdown",
   "id": "d7dd296c",
   "metadata": {},
   "source": [
    "## **Tools Binding**\n",
    "- tool choice: `any`\n",
    "    - Always have to tool calls from the available tools."
   ]
  },
  {
   "cell_type": "code",
   "execution_count": 13,
   "id": "59522c8f",
   "metadata": {},
   "outputs": [],
   "source": [
    "model_with_tools = llm.bind_tools(tools=[write_email], tool_choice=\"any\", parallel_tool_calls=False)\n",
    "\n",
    "output = model_with_tools.invoke(\"Draft a response to my MD sir about tomorrow's meeting\")"
   ]
  },
  {
   "cell_type": "code",
   "execution_count": 14,
   "id": "50c52830",
   "metadata": {},
   "outputs": [
    {
     "data": {
      "text/plain": [
       "AIMessage(content='', additional_kwargs={'reasoning_content': 'Okay, the user wants me to draft a response to their MD sir about tomorrow\\'s meeting. Let me start by understanding what they need. They probably need a professional email that confirms their attendance or discusses the meeting agenda.\\n\\nFirst, I should check if there are any specific details they want included. The user hasn\\'t provided specifics, so I\\'ll have to make some assumptions. The email should have a clear subject line, like \"Confirmation of Attendance for Tomorrow\\'s Meeting\" or something similar.\\n\\nThe content should be polite, mention the meeting date, maybe the time and location if known. Since it\\'s to the MD, it\\'s important to maintain a respectful tone. I should also include a placeholder for any additional details the user might want to add, like agenda points or action items.\\n\\nWait, the user might need to add personal notes or specific requests. I\\'ll structure the email with a friendly opening, a body that confirms attendance and mentions preparation, and a closing that invites further discussion. Also, I should make sure to use the user\\'s name and the MD\\'s name appropriately.\\n\\nLet me make sure all required parameters are there: to, subject, content. The user didn\\'t specify the MD\\'s email, so I\\'ll use a placeholder like \"md@example.com\". The subject should be clear. The content will be a draft, so it\\'s just the structure. The user can edit it as needed. Alright, that should cover the basics.\\n', 'tool_calls': [{'id': 'ybwkxd3k6', 'function': {'arguments': '{\"content\":\"Dear MD Sir,\\\\n\\\\nI hope this email finds you well. I would like to confirm my attendance for the meeting scheduled tomorrow. Please let me know if there are any specific agenda items or preparations required from my side.\\\\n\\\\nLooking forward to your guidance.\\\\n\\\\nBest regards,\\\\n[Your Name]\",\"subject\":\"Confirmation of Tomorrow\\'s Meeting\",\"to\":\"md@example.com\"}', 'name': 'write_email'}, 'type': 'function'}]}, response_metadata={'token_usage': {'completion_tokens': 395, 'prompt_tokens': 179, 'total_tokens': 574, 'completion_time': 1.294361057, 'prompt_time': 0.051101532, 'queue_time': 0.050935888, 'total_time': 1.345462589}, 'model_name': 'qwen/qwen3-32b', 'system_fingerprint': 'fp_5cf921caa2', 'service_tier': 'on_demand', 'finish_reason': 'tool_calls', 'logprobs': None}, id='run--e706b9d4-368e-4ccf-a075-b263dd6a8285-0', tool_calls=[{'name': 'write_email', 'args': {'content': 'Dear MD Sir,\\n\\nI hope this email finds you well. I would like to confirm my attendance for the meeting scheduled tomorrow. Please let me know if there are any specific agenda items or preparations required from my side.\\n\\nLooking forward to your guidance.\\n\\nBest regards,\\n[Your Name]', 'subject': \"Confirmation of Tomorrow's Meeting\", 'to': 'md@example.com'}, 'id': 'ybwkxd3k6', 'type': 'tool_call'}], usage_metadata={'input_tokens': 179, 'output_tokens': 395, 'total_tokens': 574})"
      ]
     },
     "execution_count": 14,
     "metadata": {},
     "output_type": "execute_result"
    }
   ],
   "source": [
    "output"
   ]
  },
  {
   "cell_type": "code",
   "execution_count": 16,
   "id": "14d8b66a",
   "metadata": {},
   "outputs": [
    {
     "data": {
      "text/plain": [
       "{'name': 'write_email',\n",
       " 'args': {'content': 'Dear MD Sir,\\n\\nI hope this email finds you well. I would like to confirm my attendance for the meeting scheduled tomorrow. Please let me know if there are any specific agenda items or preparations required from my side.\\n\\nLooking forward to your guidance.\\n\\nBest regards,\\n[Your Name]',\n",
       "  'subject': \"Confirmation of Tomorrow's Meeting\",\n",
       "  'to': 'md@example.com'},\n",
       " 'id': 'ybwkxd3k6',\n",
       " 'type': 'tool_call'}"
      ]
     },
     "execution_count": 16,
     "metadata": {},
     "output_type": "execute_result"
    }
   ],
   "source": [
    "output.tool_calls[0]"
   ]
  },
  {
   "cell_type": "code",
   "execution_count": 17,
   "id": "89b2736d",
   "metadata": {},
   "outputs": [
    {
     "data": {
      "text/plain": [
       "{'content': 'Dear MD Sir,\\n\\nI hope this email finds you well. I would like to confirm my attendance for the meeting scheduled tomorrow. Please let me know if there are any specific agenda items or preparations required from my side.\\n\\nLooking forward to your guidance.\\n\\nBest regards,\\n[Your Name]',\n",
       " 'subject': \"Confirmation of Tomorrow's Meeting\",\n",
       " 'to': 'md@example.com'}"
      ]
     },
     "execution_count": 17,
     "metadata": {},
     "output_type": "execute_result"
    }
   ],
   "source": [
    "args = output.tool_calls[0][\"args\"]\n",
    "args"
   ]
  },
  {
   "cell_type": "code",
   "execution_count": 18,
   "id": "2df73c98",
   "metadata": {},
   "outputs": [],
   "source": [
    "result = write_email.invoke(args)"
   ]
  },
  {
   "cell_type": "code",
   "execution_count": 20,
   "id": "c50ce267",
   "metadata": {},
   "outputs": [
    {
     "name": "stdout",
     "output_type": "stream",
     "text": [
      "Email sent to md@example.com with subject Confirmation of Tomorrow's Meeting and content: Dear MD Sir,\n",
      "\n",
      "I hope this email finds you well. I would like to confirm my attendance for the meeting scheduled tomorrow. Please let me know if there are any specific agenda items or preparations required from my side.\n",
      "\n",
      "Looking forward to your guidance.\n",
      "\n",
      "Best regards,\n",
      "[Your Name]\n"
     ]
    }
   ],
   "source": [
    "print(result)"
   ]
  },
  {
   "cell_type": "markdown",
   "id": "9015c305",
   "metadata": {},
   "source": [
    "# ***LangGraph***"
   ]
  },
  {
   "cell_type": "code",
   "execution_count": 21,
   "id": "68cf32cf",
   "metadata": {},
   "outputs": [],
   "source": [
    "from typing import TypedDict\n",
    "from langgraph.graph import StateGraph, START, END\n",
    "\n",
    "class StateSchema(TypedDict):\n",
    "    request: str\n",
    "    email: str\n",
    "\n",
    "workflow = StateGraph(StateSchema)"
   ]
  },
  {
   "cell_type": "markdown",
   "id": "d0a5bc91",
   "metadata": {},
   "source": []
  },
  {
   "cell_type": "code",
   "execution_count": null,
   "id": "111e32b2",
   "metadata": {},
   "outputs": [],
   "source": []
  }
 ],
 "metadata": {
  "kernelspec": {
   "display_name": "Build-your-Own-Deep-Research-Agent-Form-Scratch",
   "language": "python",
   "name": "python3"
  },
  "language_info": {
   "codemirror_mode": {
    "name": "ipython",
    "version": 3
   },
   "file_extension": ".py",
   "mimetype": "text/x-python",
   "name": "python",
   "nbconvert_exporter": "python",
   "pygments_lexer": "ipython3",
   "version": "3.12.3"
  }
 },
 "nbformat": 4,
 "nbformat_minor": 5
}

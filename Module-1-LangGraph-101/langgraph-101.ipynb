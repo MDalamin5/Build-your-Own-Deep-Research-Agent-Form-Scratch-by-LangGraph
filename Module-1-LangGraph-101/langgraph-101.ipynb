{
 "cells": [
  {
   "cell_type": "markdown",
   "id": "86078e72",
   "metadata": {},
   "source": [
    "## **Chat Models**"
   ]
  },
  {
   "cell_type": "code",
   "execution_count": 4,
   "id": "43c8d20d",
   "metadata": {},
   "outputs": [],
   "source": [
    "from dotenv import load_dotenv\n",
    "import os\n",
    "load_dotenv()\n",
    "\n",
    "os.environ[\"GROQ_API_KEY\"] = os.getenv(\"GROQ_API_KEY\")"
   ]
  },
  {
   "cell_type": "code",
   "execution_count": 7,
   "id": "d21791ad",
   "metadata": {},
   "outputs": [],
   "source": [
    "from langchain.chat_models import init_chat_model\n",
    "llm = init_chat_model(\"groq:qwen/qwen3-32b\", temperature=0)\n",
    "\n",
    "response = llm.invoke(\"test line\")"
   ]
  },
  {
   "cell_type": "code",
   "execution_count": 8,
   "id": "d4c1a37a",
   "metadata": {},
   "outputs": [
    {
     "data": {
      "text/plain": [
       "'<think>\\nOkay, the user sent \"test line\". That\\'s pretty short. I need to figure out what they want. Maybe they\\'re just checking if the system is working. Let me see. They might be testing the response time or if the AI is active. I should respond in a friendly way to acknowledge their test. Let me make sure to keep it open-ended in case they have more to say. Maybe something like, \"Hello! It looks like you\\'re testing the waters. How can I assist you today?\" That should cover it. Let me check for any typos and ensure the tone is approachable.\\n</think>\\n\\nHello! It looks like you\\'re testing the waters. How can I assist you today? 😊'"
      ]
     },
     "execution_count": 8,
     "metadata": {},
     "output_type": "execute_result"
    }
   ],
   "source": [
    "response.content"
   ]
  },
  {
   "cell_type": "code",
   "execution_count": 9,
   "id": "f7114e80",
   "metadata": {},
   "outputs": [
    {
     "data": {
      "text/plain": [
       "langchain_core.messages.ai.AIMessage"
      ]
     },
     "execution_count": 9,
     "metadata": {},
     "output_type": "execute_result"
    }
   ],
   "source": [
    "type(response)"
   ]
  },
  {
   "cell_type": "markdown",
   "id": "4dea6c9e",
   "metadata": {},
   "source": [
    "# **Tools**"
   ]
  },
  {
   "cell_type": "code",
   "execution_count": 10,
   "id": "61f21fc5",
   "metadata": {},
   "outputs": [],
   "source": [
    "from langchain.tools import tool\n",
    "\n",
    "@tool\n",
    "def write_email(to: str, subject: str, content: str) -> str:\n",
    "    \"\"\"Write and send email.\"\"\"\n",
    "\n",
    "    return f\"Email sent to {to} with subject {subject} and content: {content}\""
   ]
  },
  {
   "cell_type": "code",
   "execution_count": 11,
   "id": "ac884372",
   "metadata": {},
   "outputs": [
    {
     "data": {
      "text/plain": [
       "langchain_core.tools.structured.StructuredTool"
      ]
     },
     "execution_count": 11,
     "metadata": {},
     "output_type": "execute_result"
    }
   ],
   "source": [
    "type(write_email)"
   ]
  },
  {
   "cell_type": "code",
   "execution_count": 12,
   "id": "a1b48754",
   "metadata": {},
   "outputs": [
    {
     "data": {
      "text/plain": [
       "{'to': {'title': 'To', 'type': 'string'},\n",
       " 'subject': {'title': 'Subject', 'type': 'string'},\n",
       " 'content': {'title': 'Content', 'type': 'string'}}"
      ]
     },
     "execution_count": 12,
     "metadata": {},
     "output_type": "execute_result"
    }
   ],
   "source": [
    "write_email.args"
   ]
  },
  {
   "cell_type": "markdown",
   "id": "d7dd296c",
   "metadata": {},
   "source": [
    "## **Tools Binding**\n",
    "- tool choice: `any`\n",
    "    - Always have to tool calls from the available tools."
   ]
  },
  {
   "cell_type": "code",
   "execution_count": 13,
   "id": "59522c8f",
   "metadata": {},
   "outputs": [],
   "source": [
    "model_with_tools = llm.bind_tools(tools=[write_email], tool_choice=\"any\", parallel_tool_calls=False)\n",
    "\n",
    "output = model_with_tools.invoke(\"Draft a response to my MD sir about tomorrow's meeting\")"
   ]
  },
  {
   "cell_type": "code",
   "execution_count": 14,
   "id": "50c52830",
   "metadata": {},
   "outputs": [
    {
     "data": {
      "text/plain": [
       "AIMessage(content='', additional_kwargs={'reasoning_content': 'Okay, the user wants me to draft a response to their MD sir about tomorrow\\'s meeting. Let me start by understanding what they need. They probably need a professional email that confirms their attendance or discusses the meeting agenda.\\n\\nFirst, I should check if there are any specific details they want included. The user hasn\\'t provided specifics, so I\\'ll have to make some assumptions. The email should have a clear subject line, like \"Confirmation of Attendance for Tomorrow\\'s Meeting\" or something similar.\\n\\nThe content should be polite, mention the meeting date, maybe the time and location if known. Since it\\'s to the MD, it\\'s important to maintain a respectful tone. I should also include a placeholder for any additional details the user might want to add, like agenda points or action items.\\n\\nWait, the user might need to add personal notes or specific requests. I\\'ll structure the email with a friendly opening, a body that confirms attendance and mentions preparation, and a closing that invites further discussion. Also, I should make sure to use the user\\'s name and the MD\\'s name appropriately.\\n\\nLet me make sure all required parameters are there: to, subject, content. The user didn\\'t specify the MD\\'s email, so I\\'ll use a placeholder like \"md@example.com\". The subject should be clear. The content will be a draft, so it\\'s just the structure. The user can edit it as needed. Alright, that should cover the basics.\\n', 'tool_calls': [{'id': 'ybwkxd3k6', 'function': {'arguments': '{\"content\":\"Dear MD Sir,\\\\n\\\\nI hope this email finds you well. I would like to confirm my attendance for the meeting scheduled tomorrow. Please let me know if there are any specific agenda items or preparations required from my side.\\\\n\\\\nLooking forward to your guidance.\\\\n\\\\nBest regards,\\\\n[Your Name]\",\"subject\":\"Confirmation of Tomorrow\\'s Meeting\",\"to\":\"md@example.com\"}', 'name': 'write_email'}, 'type': 'function'}]}, response_metadata={'token_usage': {'completion_tokens': 395, 'prompt_tokens': 179, 'total_tokens': 574, 'completion_time': 1.294361057, 'prompt_time': 0.051101532, 'queue_time': 0.050935888, 'total_time': 1.345462589}, 'model_name': 'qwen/qwen3-32b', 'system_fingerprint': 'fp_5cf921caa2', 'service_tier': 'on_demand', 'finish_reason': 'tool_calls', 'logprobs': None}, id='run--e706b9d4-368e-4ccf-a075-b263dd6a8285-0', tool_calls=[{'name': 'write_email', 'args': {'content': 'Dear MD Sir,\\n\\nI hope this email finds you well. I would like to confirm my attendance for the meeting scheduled tomorrow. Please let me know if there are any specific agenda items or preparations required from my side.\\n\\nLooking forward to your guidance.\\n\\nBest regards,\\n[Your Name]', 'subject': \"Confirmation of Tomorrow's Meeting\", 'to': 'md@example.com'}, 'id': 'ybwkxd3k6', 'type': 'tool_call'}], usage_metadata={'input_tokens': 179, 'output_tokens': 395, 'total_tokens': 574})"
      ]
     },
     "execution_count": 14,
     "metadata": {},
     "output_type": "execute_result"
    }
   ],
   "source": [
    "output"
   ]
  },
  {
   "cell_type": "code",
   "execution_count": 16,
   "id": "14d8b66a",
   "metadata": {},
   "outputs": [
    {
     "data": {
      "text/plain": [
       "{'name': 'write_email',\n",
       " 'args': {'content': 'Dear MD Sir,\\n\\nI hope this email finds you well. I would like to confirm my attendance for the meeting scheduled tomorrow. Please let me know if there are any specific agenda items or preparations required from my side.\\n\\nLooking forward to your guidance.\\n\\nBest regards,\\n[Your Name]',\n",
       "  'subject': \"Confirmation of Tomorrow's Meeting\",\n",
       "  'to': 'md@example.com'},\n",
       " 'id': 'ybwkxd3k6',\n",
       " 'type': 'tool_call'}"
      ]
     },
     "execution_count": 16,
     "metadata": {},
     "output_type": "execute_result"
    }
   ],
   "source": [
    "output.tool_calls[0]"
   ]
  },
  {
   "cell_type": "code",
   "execution_count": 17,
   "id": "89b2736d",
   "metadata": {},
   "outputs": [
    {
     "data": {
      "text/plain": [
       "{'content': 'Dear MD Sir,\\n\\nI hope this email finds you well. I would like to confirm my attendance for the meeting scheduled tomorrow. Please let me know if there are any specific agenda items or preparations required from my side.\\n\\nLooking forward to your guidance.\\n\\nBest regards,\\n[Your Name]',\n",
       " 'subject': \"Confirmation of Tomorrow's Meeting\",\n",
       " 'to': 'md@example.com'}"
      ]
     },
     "execution_count": 17,
     "metadata": {},
     "output_type": "execute_result"
    }
   ],
   "source": [
    "args = output.tool_calls[0][\"args\"]\n",
    "args"
   ]
  },
  {
   "cell_type": "code",
   "execution_count": 18,
   "id": "2df73c98",
   "metadata": {},
   "outputs": [],
   "source": [
    "result = write_email.invoke(args)"
   ]
  },
  {
   "cell_type": "code",
   "execution_count": 20,
   "id": "c50ce267",
   "metadata": {},
   "outputs": [
    {
     "name": "stdout",
     "output_type": "stream",
     "text": [
      "Email sent to md@example.com with subject Confirmation of Tomorrow's Meeting and content: Dear MD Sir,\n",
      "\n",
      "I hope this email finds you well. I would like to confirm my attendance for the meeting scheduled tomorrow. Please let me know if there are any specific agenda items or preparations required from my side.\n",
      "\n",
      "Looking forward to your guidance.\n",
      "\n",
      "Best regards,\n",
      "[Your Name]\n"
     ]
    }
   ],
   "source": [
    "print(result)"
   ]
  },
  {
   "cell_type": "markdown",
   "id": "9015c305",
   "metadata": {},
   "source": [
    "# ***LangGraph***"
   ]
  },
  {
   "cell_type": "code",
   "execution_count": 21,
   "id": "68cf32cf",
   "metadata": {},
   "outputs": [],
   "source": [
    "from typing import TypedDict\n",
    "from langgraph.graph import StateGraph, START, END\n",
    "\n",
    "class StateSchema(TypedDict):\n",
    "    request: str\n",
    "    email: str\n",
    "\n",
    "workflow = StateGraph(StateSchema)"
   ]
  },
  {
   "cell_type": "markdown",
   "id": "d0a5bc91",
   "metadata": {},
   "source": [
    "## **Write email Node**"
   ]
  },
  {
   "cell_type": "code",
   "execution_count": 22,
   "id": "111e32b2",
   "metadata": {},
   "outputs": [],
   "source": [
    "def write_email_node(state: StateSchema) -> StateSchema:\n",
    "\n",
    "    request = state[\"request\"]\n",
    "    output = model_with_tools.invoke(request)\n",
    "    args = output.tool_calls[0][\"args\"]\n",
    "    \n",
    "    email = write_email.invoke(args)\n",
    "\n",
    "    return {\n",
    "        \"email\": email\n",
    "    }"
   ]
  },
  {
   "cell_type": "code",
   "execution_count": 23,
   "id": "dda7a8a5",
   "metadata": {},
   "outputs": [
    {
     "data": {
      "image/png": "[encoded data removed]",
      "text/plain": [
       "<langgraph.graph.state.CompiledStateGraph object at 0x70d97111f8f0>"
      ]
     },
     "execution_count": 23,
     "metadata": {},
     "output_type": "execute_result"
    }
   ],
   "source": [
    "workflow.add_node(\"Write_Email\", write_email_node)\n",
    "workflow.add_edge(START, \"Write_Email\")\n",
    "workflow.add_edge(\"Write_Email\", END)\n",
    "\n",
    "app = workflow.compile()\n",
    "app"
   ]
  },
  {
   "cell_type": "code",
   "execution_count": 26,
   "id": "017d839c",
   "metadata": {},
   "outputs": [
    {
     "data": {
      "text/plain": [
       "\"Email sent to md@example.com with subject Confirmation of Tomorrow's Meeting and content: Dear MD Sir, I hope this email finds you well. I just wanted to confirm our meeting scheduled for tomorrow. I am looking forward to discussing the agenda with you. Please let me know if there are any specific points you'd like to address. Best regards, [Your Name]\""
      ]
     },
     "execution_count": 26,
     "metadata": {},
     "output_type": "execute_result"
    }
   ],
   "source": [
    "response = app.invoke(\n",
    "    {\n",
    "        \"request\": \"Draft a response to my MD sir about tomorrow's meeting.\"\n",
    "    }\n",
    ")\n",
    "\n",
    "response[\"email\"]"
   ]
  },
  {
   "cell_type": "markdown",
   "id": "d54f1aea",
   "metadata": {},
   "source": [
    "## **Build the Actually Tools calls and Feedbacks**"
   ]
  },
  {
   "cell_type": "code",
   "execution_count": 50,
   "id": "53a22d20",
   "metadata": {},
   "outputs": [],
   "source": [
    "from typing import Literal\n",
    "from langgraph.graph import MessagesState\n",
    "\n",
    "def call_llm(state: MessagesState) -> MessagesState:\n",
    "    \"\"\"Run LLM\"\"\"\n",
    "    print(\"---Call LLm---\")\n",
    "    message = state[\"messages\"]\n",
    "\n",
    "    output = model_with_tools.invoke(message)\n",
    "    return {\n",
    "        \"messages\": [output]\n",
    "    }"
   ]
  },
  {
   "cell_type": "code",
   "execution_count": 51,
   "id": "9c42dff9",
   "metadata": {},
   "outputs": [],
   "source": [
    "def run_tool(state: dict):\n",
    "    \"\"\"Perform the tool call\"\"\"\n",
    "    print(\"---Run Tool---\")\n",
    "\n",
    "    result = []\n",
    "    for tool_call in state[\"messages\"][-1].tool_calls:\n",
    "        observation = write_email.invoke(tool_call[\"args\"])\n",
    "        result.append(\n",
    "            {\n",
    "                \"role\": \"tool\",\n",
    "                \"content\": observation,\n",
    "                \"tool_call_id\": tool_call[\"id\"]\n",
    "            }\n",
    "        )\n",
    "    return {\n",
    "        \"messages\": result\n",
    "    }"
   ]
  },
  {
   "cell_type": "code",
   "execution_count": 52,
   "id": "d0121924",
   "metadata": {},
   "outputs": [],
   "source": [
    "def should_continue(state: MessagesState) -> Literal[\"run_tool\", END]:\n",
    "    \"\"\"Route to tool handler, or end if Done tool called\"\"\"\n",
    "    print(\"---Should Continue---\")\n",
    "\n",
    "    # ---extract last messages ---\n",
    "\n",
    "    messages = state[\"messages\"][-1]\n",
    "\n",
    "    if messages.tool_calls:\n",
    "        return \"run_tool\"\n",
    "    return END\n",
    "\n"
   ]
  },
  {
   "cell_type": "code",
   "execution_count": 59,
   "id": "b2a8c62c",
   "metadata": {},
   "outputs": [
    {
     "data": {
      "image/png": "[encoded data removed]",
      "text/plain": [
       "<langgraph.graph.state.CompiledStateGraph object at 0x70d96bd9e330>"
      ]
     },
     "execution_count": 59,
     "metadata": {},
     "output_type": "execute_result"
    }
   ],
   "source": [
    "builder = StateGraph(MessagesState)\n",
    "\n",
    "builder.add_node(\"call_llm\", call_llm)\n",
    "builder.add_node(\"run_tool\", run_tool)\n",
    "\n",
    "builder.add_edge(START, \"call_llm\")\n",
    "builder.add_conditional_edges(\n",
    "    \"call_llm\",\n",
    "    should_continue,\n",
    "    {\n",
    "        \"run_tool\": \"run_tool\",\n",
    "        END: END\n",
    "    }\n",
    ")\n",
    "builder.add_edge(\"run_tool\", END)\n",
    "\n",
    "app = builder.compile()\n",
    "app"
   ]
  },
  {
   "cell_type": "code",
   "execution_count": 61,
   "id": "49507f6f",
   "metadata": {},
   "outputs": [
    {
     "name": "stdout",
     "output_type": "stream",
     "text": [
      "---Call LLm---\n",
      "---Should Continue---\n",
      "---Run Tool---\n",
      "================================\u001b[1m Human Message \u001b[0m=================================\n",
      "\n",
      "write a email to my MD sir about tomorrow's meeting.\n",
      "==================================\u001b[1m Ai Message \u001b[0m==================================\n",
      "Tool Calls:\n",
      "  write_email (429vth6hs)\n",
      " Call ID: 429vth6hs\n",
      "  Args:\n",
      "    content: Dear MD Sir,\n",
      "\n",
      "I hope this email finds you well. I would like to confirm our meeting scheduled for tomorrow. Kindly let me know the specific time and any agenda points you'd like to discuss. I am looking forward to our discussion.\n",
      "\n",
      "Best regards,\n",
      "[Your Name]\n",
      "    subject: Tomorrow's Meeting Discussion\n",
      "    to: md@example.com\n",
      "=================================\u001b[1m Tool Message \u001b[0m=================================\n",
      "\n",
      "Email sent to md@example.com with subject Tomorrow's Meeting Discussion and content: Dear MD Sir,\n",
      "\n",
      "I hope this email finds you well. I would like to confirm our meeting scheduled for tomorrow. Kindly let me know the specific time and any agenda points you'd like to discuss. I am looking forward to our discussion.\n",
      "\n",
      "Best regards,\n",
      "[Your Name]\n"
     ]
    }
   ],
   "source": [
    "response = app.invoke(\n",
    "    {\n",
    "        \"messages\": [\n",
    "            {\n",
    "                \"role\": \"user\",\n",
    "                \"content\": \"write a email to my MD sir about tomorrow's meeting.\"\n",
    "            }\n",
    "        ]\n",
    "    }\n",
    ")\n",
    "\n",
    "for msg in response[\"messages\"]:\n",
    "    msg.pretty_print()"
   ]
  },
  {
   "cell_type": "markdown",
   "id": "68dd2e7a",
   "metadata": {},
   "source": [
    "## **Create React Agent**"
   ]
  },
  {
   "cell_type": "code",
   "execution_count": 62,
   "id": "336b09b9",
   "metadata": {},
   "outputs": [],
   "source": [
    "from langgraph.prebuilt import create_react_agent\n",
    "\n",
    "agent = create_react_agent(\n",
    "    model=llm,\n",
    "    tools=[write_email],\n",
    "    prompt=\"Response to the user's request using the tools provided.\"\n",
    ")"
   ]
  },
  {
   "cell_type": "code",
   "execution_count": 67,
   "id": "85631f73",
   "metadata": {},
   "outputs": [],
   "source": [
    "response = agent.invoke(\n",
    "    {\n",
    "        \"messages\": [\n",
    "            {\n",
    "                \"role\": \"user\",\n",
    "                \"content\": \"Draft a response to my boss confirming that I want to attend Interrupt!\"\n",
    "            }\n",
    "        ]\n",
    "    }\n",
    ")"
   ]
  },
  {
   "cell_type": "code",
   "execution_count": 68,
   "id": "9382141b",
   "metadata": {},
   "outputs": [
    {
     "name": "stdout",
     "output_type": "stream",
     "text": [
      "================================\u001b[1m Human Message \u001b[0m=================================\n",
      "\n",
      "Draft a response to my boss confirming that I want to attend Interrupt!\n",
      "==================================\u001b[1m Ai Message \u001b[0m==================================\n",
      "Tool Calls:\n",
      "  write_email (e9evrazkr)\n",
      " Call ID: e9evrazkr\n",
      "  Args:\n",
      "    content: Dear [Boss's Name],\n",
      "\n",
      "I am writing to confirm my attendance at Interrupt! I am excited about the opportunity to attend and look forward to the insights and networking it will provide. Please let me know if there are any additional steps I need to take.\n",
      "\n",
      "Best regards,\n",
      "[Your Name]\n",
      "    subject: Confirmation of Attendance at Interrupt!\n",
      "    to: boss@example.com\n",
      "=================================\u001b[1m Tool Message \u001b[0m=================================\n",
      "Name: write_email\n",
      "\n",
      "Email sent to boss@example.com with subject Confirmation of Attendance at Interrupt! and content: Dear [Boss's Name],\n",
      "\n",
      "I am writing to confirm my attendance at Interrupt! I am excited about the opportunity to attend and look forward to the insights and networking it will provide. Please let me know if there are any additional steps I need to take.\n",
      "\n",
      "Best regards,\n",
      "[Your Name]\n",
      "==================================\u001b[1m Ai Message \u001b[0m==================================\n",
      "\n",
      "Your email to confirm attendance at Interrupt! has been successfully sent to your boss. Let me know if you'd like to:\n",
      "\n",
      "1. Add the event to your calendar\n",
      "2. Prepare a travel itinerary\n",
      "3. Review any pre-event materials\n",
      "\n",
      "I'm here to help with any next steps!\n"
     ]
    }
   ],
   "source": [
    "for msg in response[\"messages\"]:\n",
    "    msg.pretty_print()"
   ]
  },
  {
   "cell_type": "code",
   "execution_count": 69,
   "id": "9cfc1486",
   "metadata": {},
   "outputs": [],
   "source": [
    "from langgraph.checkpoint.memory import InMemorySaver\n",
    "\n",
    "from langgraph.prebuilt import create_react_agent\n",
    "\n",
    "agent = create_react_agent(\n",
    "    model=llm,\n",
    "    tools=[write_email],\n",
    "    prompt=\"Response to the user's request using the tools provided.\",\n",
    "    checkpointer=InMemorySaver()\n",
    ")\n",
    "\n",
    "config = {\n",
    "    \"configurable\": {\n",
    "        \"thread_id\": \"1\"\n",
    "    }\n",
    "}\n",
    "\n",
    "result = agent.invoke(\n",
    "    {\n",
    "        \"messages\": [\n",
    "            {\n",
    "                \"role\": \"user\",\n",
    "                \"content\": \"Write some good practices to write th emails.\"\n",
    "            }\n",
    "        ]\n",
    "    },\n",
    "    config=config\n",
    ")"
   ]
  },
  {
   "cell_type": "code",
   "execution_count": 71,
   "id": "1f47b6ad",
   "metadata": {},
   "outputs": [
    {
     "name": "stdout",
     "output_type": "stream",
     "text": [
      "================================\u001b[1m Human Message \u001b[0m=================================\n",
      "\n",
      "Write some good practices to write th emails.\n",
      "==================================\u001b[1m Ai Message \u001b[0m==================================\n",
      "\n",
      "Here are some best practices for writing effective emails:\n",
      "\n",
      "1. **Clear Subject Line**: Summarize the purpose concisely (e.g., \"Project Update: Q3 Goals\").\n",
      "2. **Friendly Greeting**: Use \"Hi [Name]\" or \"Dear [Name]\" to personalize.\n",
      "3. **Concise Content**: Keep paragraphs short; use bullet points for lists or key points.\n",
      "4. **Tone**: Match the recipient's formality (professional for work, casual for friends).\n",
      "5. **Call to Action**: Specify what you need (e.g., \"Please confirm by Friday\").\n",
      "6. **Proofread**: Check for typos and clarity before sending.\n",
      "7. **Sign Off**: Use \"Best regards,\" \"Sincerely,\" or \"Thanks,\" followed by your name/contact info.\n",
      "\n",
      "Example structure:\n",
      "```\n",
      "Subject: [Clear Summary]\n",
      "Hi [Name],\n",
      "[Opening line – context or purpose]\n",
      "[Body – details/bullet points]\n",
      "[Closing – request or next steps]\n",
      "Best regards,\n",
      "[Your Name]\n",
      "``` \n",
      "\n",
      "Let me know if you'd like help drafting a specific email!\n"
     ]
    }
   ],
   "source": [
    "for msg in result[\"messages\"]:\n",
    "    msg.pretty_print()"
   ]
  },
  {
   "cell_type": "code",
   "execution_count": 72,
   "id": "9d63ef98",
   "metadata": {},
   "outputs": [
    {
     "name": "stdout",
     "output_type": "stream",
     "text": [
      "================================\u001b[1m Human Message \u001b[0m=================================\n",
      "\n",
      "Write some good practices to write th emails.\n",
      "==================================\u001b[1m Ai Message \u001b[0m==================================\n",
      "\n",
      "Here are some best practices for writing effective emails:\n",
      "\n",
      "1. **Clear Subject Line**: Summarize the purpose concisely (e.g., \"Project Update: Q3 Goals\").\n",
      "2. **Friendly Greeting**: Use \"Hi [Name]\" or \"Dear [Name]\" to personalize.\n",
      "3. **Concise Content**: Keep paragraphs short; use bullet points for lists or key points.\n",
      "4. **Tone**: Match the recipient's formality (professional for work, casual for friends).\n",
      "5. **Call to Action**: Specify what you need (e.g., \"Please confirm by Friday\").\n",
      "6. **Proofread**: Check for typos and clarity before sending.\n",
      "7. **Sign Off**: Use \"Best regards,\" \"Sincerely,\" or \"Thanks,\" followed by your name/contact info.\n",
      "\n",
      "Example structure:\n",
      "```\n",
      "Subject: [Clear Summary]\n",
      "Hi [Name],\n",
      "[Opening line – context or purpose]\n",
      "[Body – details/bullet points]\n",
      "[Closing – request or next steps]\n",
      "Best regards,\n",
      "[Your Name]\n",
      "``` \n",
      "\n",
      "Let me know if you'd like help drafting a specific email!\n"
     ]
    }
   ],
   "source": [
    "state = agent.get_state(config=config)\n",
    "for msg in state.values[\"messages\"]:\n",
    "    msg.pretty_print()"
   ]
  },
  {
   "cell_type": "markdown",
   "id": "0d6cdb8b",
   "metadata": {},
   "source": [
    "## **Continue Conversation**"
   ]
  },
  {
   "cell_type": "code",
   "execution_count": 73,
   "id": "a51b59ff",
   "metadata": {},
   "outputs": [],
   "source": [
    "result = agent.invoke(\n",
    "    {\n",
    "        \"messages\": [\n",
    "            {\n",
    "                \"role\": \"user\",\n",
    "                \"content\": \"Good, let's use lesson 3 to craft a response to my boos confirming that i want to attend Interrupt\"\n",
    "            }\n",
    "        ]\n",
    "    },\n",
    "    config=config\n",
    ")"
   ]
  },
  {
   "cell_type": "code",
   "execution_count": 74,
   "id": "272871c5",
   "metadata": {},
   "outputs": [
    {
     "name": "stdout",
     "output_type": "stream",
     "text": [
      "================================\u001b[1m Human Message \u001b[0m=================================\n",
      "\n",
      "Write some good practices to write th emails.\n",
      "==================================\u001b[1m Ai Message \u001b[0m==================================\n",
      "\n",
      "Here are some best practices for writing effective emails:\n",
      "\n",
      "1. **Clear Subject Line**: Summarize the purpose concisely (e.g., \"Project Update: Q3 Goals\").\n",
      "2. **Friendly Greeting**: Use \"Hi [Name]\" or \"Dear [Name]\" to personalize.\n",
      "3. **Concise Content**: Keep paragraphs short; use bullet points for lists or key points.\n",
      "4. **Tone**: Match the recipient's formality (professional for work, casual for friends).\n",
      "5. **Call to Action**: Specify what you need (e.g., \"Please confirm by Friday\").\n",
      "6. **Proofread**: Check for typos and clarity before sending.\n",
      "7. **Sign Off**: Use \"Best regards,\" \"Sincerely,\" or \"Thanks,\" followed by your name/contact info.\n",
      "\n",
      "Example structure:\n",
      "```\n",
      "Subject: [Clear Summary]\n",
      "Hi [Name],\n",
      "[Opening line – context or purpose]\n",
      "[Body – details/bullet points]\n",
      "[Closing – request or next steps]\n",
      "Best regards,\n",
      "[Your Name]\n",
      "``` \n",
      "\n",
      "Let me know if you'd like help drafting a specific email!\n",
      "================================\u001b[1m Human Message \u001b[0m=================================\n",
      "\n",
      "Good, let's use lesson 3 to craft a response to my boos confirming that i want to attend Interrupt\n",
      "==================================\u001b[1m Ai Message \u001b[0m==================================\n",
      "Tool Calls:\n",
      "  write_email (v7mkqe81c)\n",
      " Call ID: v7mkqe81c\n",
      "  Args:\n",
      "    content: Dear [Boss's Name],\n",
      "\n",
      "I am writing to confirm my attendance at the upcoming Interrupt event. I believe this opportunity aligns well with our team’s goals, and I look forward to networking with industry leaders and sharing insights on [relevant topic].\n",
      "\n",
      "Please let me know if there are any specific preparations or materials I should finalize beforehand.\n",
      "\n",
      "Thank you for your support.\n",
      "\n",
      "Best regards,\n",
      "[Your Full Name]\n",
      "[Your Contact Information]\n",
      "    subject: Confirmation of Attendance at Interrupt\n",
      "    to: [Boss's Email]\n",
      "=================================\u001b[1m Tool Message \u001b[0m=================================\n",
      "Name: write_email\n",
      "\n",
      "Email sent to [Boss's Email] with subject Confirmation of Attendance at Interrupt and content: Dear [Boss's Name],\n",
      "\n",
      "I am writing to confirm my attendance at the upcoming Interrupt event. I believe this opportunity aligns well with our team’s goals, and I look forward to networking with industry leaders and sharing insights on [relevant topic].\n",
      "\n",
      "Please let me know if there are any specific preparations or materials I should finalize beforehand.\n",
      "\n",
      "Thank you for your support.\n",
      "\n",
      "Best regards,\n",
      "[Your Full Name]\n",
      "[Your Contact Information]\n",
      "==================================\u001b[1m Ai Message \u001b[0m==================================\n",
      "\n",
      "Your email confirming attendance at Interrupt has been sent to **[Boss's Email]** with the subject **\"Confirmation of Attendance at Interrupt\"**. The content includes:  \n",
      "- A clear purpose (attending the event).  \n",
      "- Alignment with team goals.  \n",
      "- A request for preparation guidance.  \n",
      "- A polite closing.  \n",
      "\n",
      "Let me know if you'd like to adjust the message or draft a follow-up! 📨\n"
     ]
    }
   ],
   "source": [
    "for msg in result[\"messages\"]:\n",
    "    msg.pretty_print()"
   ]
  },
  {
   "cell_type": "code",
   "execution_count": 75,
   "id": "73fc725c",
   "metadata": {},
   "outputs": [
    {
     "name": "stdout",
     "output_type": "stream",
     "text": [
      "================================\u001b[1m Human Message \u001b[0m=================================\n",
      "\n",
      "Write some good practices to write th emails.\n",
      "==================================\u001b[1m Ai Message \u001b[0m==================================\n",
      "\n",
      "Here are some best practices for writing effective emails:\n",
      "\n",
      "1. **Clear Subject Line**: Summarize the purpose concisely (e.g., \"Project Update: Q3 Goals\").\n",
      "2. **Friendly Greeting**: Use \"Hi [Name]\" or \"Dear [Name]\" to personalize.\n",
      "3. **Concise Content**: Keep paragraphs short; use bullet points for lists or key points.\n",
      "4. **Tone**: Match the recipient's formality (professional for work, casual for friends).\n",
      "5. **Call to Action**: Specify what you need (e.g., \"Please confirm by Friday\").\n",
      "6. **Proofread**: Check for typos and clarity before sending.\n",
      "7. **Sign Off**: Use \"Best regards,\" \"Sincerely,\" or \"Thanks,\" followed by your name/contact info.\n",
      "\n",
      "Example structure:\n",
      "```\n",
      "Subject: [Clear Summary]\n",
      "Hi [Name],\n",
      "[Opening line – context or purpose]\n",
      "[Body – details/bullet points]\n",
      "[Closing – request or next steps]\n",
      "Best regards,\n",
      "[Your Name]\n",
      "``` \n",
      "\n",
      "Let me know if you'd like help drafting a specific email!\n",
      "================================\u001b[1m Human Message \u001b[0m=================================\n",
      "\n",
      "Good, let's use lesson 3 to craft a response to my boos confirming that i want to attend Interrupt\n",
      "==================================\u001b[1m Ai Message \u001b[0m==================================\n",
      "Tool Calls:\n",
      "  write_email (v7mkqe81c)\n",
      " Call ID: v7mkqe81c\n",
      "  Args:\n",
      "    content: Dear [Boss's Name],\n",
      "\n",
      "I am writing to confirm my attendance at the upcoming Interrupt event. I believe this opportunity aligns well with our team’s goals, and I look forward to networking with industry leaders and sharing insights on [relevant topic].\n",
      "\n",
      "Please let me know if there are any specific preparations or materials I should finalize beforehand.\n",
      "\n",
      "Thank you for your support.\n",
      "\n",
      "Best regards,\n",
      "[Your Full Name]\n",
      "[Your Contact Information]\n",
      "    subject: Confirmation of Attendance at Interrupt\n",
      "    to: [Boss's Email]\n",
      "=================================\u001b[1m Tool Message \u001b[0m=================================\n",
      "Name: write_email\n",
      "\n",
      "Email sent to [Boss's Email] with subject Confirmation of Attendance at Interrupt and content: Dear [Boss's Name],\n",
      "\n",
      "I am writing to confirm my attendance at the upcoming Interrupt event. I believe this opportunity aligns well with our team’s goals, and I look forward to networking with industry leaders and sharing insights on [relevant topic].\n",
      "\n",
      "Please let me know if there are any specific preparations or materials I should finalize beforehand.\n",
      "\n",
      "Thank you for your support.\n",
      "\n",
      "Best regards,\n",
      "[Your Full Name]\n",
      "[Your Contact Information]\n",
      "==================================\u001b[1m Ai Message \u001b[0m==================================\n",
      "\n",
      "Your email confirming attendance at Interrupt has been sent to **[Boss's Email]** with the subject **\"Confirmation of Attendance at Interrupt\"**. The content includes:  \n",
      "- A clear purpose (attending the event).  \n",
      "- Alignment with team goals.  \n",
      "- A request for preparation guidance.  \n",
      "- A polite closing.  \n",
      "\n",
      "Let me know if you'd like to adjust the message or draft a follow-up! 📨\n"
     ]
    }
   ],
   "source": [
    "state = agent.get_state(config=config)\n",
    "for msg in state.values[\"messages\"]:\n",
    "    msg.pretty_print()"
   ]
  },
  {
   "cell_type": "markdown",
   "id": "f91f230e",
   "metadata": {},
   "source": [
    "## **Interrupts**\n",
    "- Stop graph execution at specific point"
   ]
  },
  {
   "cell_type": "code",
   "execution_count": null,
   "id": "eab57950",
   "metadata": {},
   "outputs": [
    {
     "data": {
      "image/png": "[encoded data removed]",
      "text/plain": [
       "<langgraph.graph.state.CompiledStateGraph object at 0x70d96b56a9f0>"
      ]
     },
     "execution_count": 84,
     "metadata": {},
     "output_type": "execute_result"
    }
   ],
   "source": [
    "from typing_extensions import TypedDict\n",
    "from langgraph.graph import StateGraph, START, END\n",
    "\n",
    "from langgraph.types import Command, interrupt\n",
    "from langgraph.checkpoint.memory import InMemorySaver\n",
    "\n",
    "class State(TypedDict):\n",
    "    input: str\n",
    "    user_feedback: str\n",
    "\n",
    "def step_1(state):\n",
    "    print(\"---Step 1---\")\n",
    "    pass\n",
    "\n",
    "def human_feedback(state):\n",
    "    print(\"---human_feedback---\")\n",
    "    feedback = interrupt(\"Please provide feedback:\")\n",
    "    return {\"user_feedback\": feedback}\n",
    "\n",
    "def step_3(state):\n",
    "    print(\"---Step 3---\")\n",
    "    pass\n",
    "\n",
    "builder = StateGraph(State)\n",
    "builder.add_node(\"step_1\", step_1)\n",
    "builder.add_node(\"human_feedback\", human_feedback)\n",
    "builder.add_node(\"step_3\", step_3)\n",
    "builder.add_edge(START, \"step_1\")\n",
    "builder.add_edge(\"step_1\", \"human_feedback\")\n",
    "builder.add_edge(\"human_feedback\", \"step_3\")\n",
    "builder.add_edge(\"step_3\", END)\n",
    "\n",
    "# Set up memory\n",
    "memory = InMemorySaver()\n",
    "\n",
    "# Add\n",
    "graph = builder.compile(checkpointer=memory)"
   ]
  },
  {
   "cell_type": "code",
   "execution_count": 87,
   "id": "9a027594",
   "metadata": {},
   "outputs": [
    {
     "name": "stdout",
     "output_type": "stream",
     "text": [
      "---Step 1---\n",
      "{'step_1': None}\n",
      "\n",
      "\n",
      "---human_feedback---\n",
      "{'__interrupt__': (Interrupt(value='Please provide feedback:', id='435caa29de218a454b8ce4647bb93073'),)}\n",
      "\n",
      "\n"
     ]
    }
   ],
   "source": [
    "# Input\n",
    "initial_input = {\"input\": \"test line\"}\n",
    "\n",
    "# Thread\n",
    "thread = {\"configurable\": {\"thread_id\": \"1\"}}\n",
    "\n",
    "# Run the graph until the first interruption\n",
    "for event in graph.stream(initial_input, thread, stream_mode=\"updates\"):\n",
    "    print(event)\n",
    "    print(\"\\n\")"
   ]
  },
  {
   "cell_type": "markdown",
   "id": "f769eccf",
   "metadata": {},
   "source": [
    "## **Resume the Interrupt**\n",
    "- use Command object"
   ]
  },
  {
   "cell_type": "code",
   "execution_count": 88,
   "id": "64fedfd0",
   "metadata": {},
   "outputs": [
    {
     "name": "stdout",
     "output_type": "stream",
     "text": [
      "---human_feedback---\n",
      "{'human_feedback': {'user_feedback': 'go to step 3!'}}\n",
      "\n",
      "\n",
      "---Step 3---\n",
      "{'step_3': None}\n",
      "\n",
      "\n"
     ]
    }
   ],
   "source": [
    "# Continue the graph execution\n",
    "for event in graph.stream(\n",
    "    Command(resume=\"go to step 3!\"),\n",
    "    thread,\n",
    "    stream_mode=\"updates\",\n",
    "):\n",
    "    print(event)\n",
    "    print(\"\\n\")"
   ]
  }
 ],
 "metadata": {
  "kernelspec": {
   "display_name": "Build-your-Own-Deep-Research-Agent-Form-Scratch",
   "language": "python",
   "name": "python3"
  },
  "language_info": {
   "codemirror_mode": {
    "name": "ipython",
    "version": 3
   },
   "file_extension": ".py",
   "mimetype": "text/x-python",
   "name": "python",
   "nbconvert_exporter": "python",
   "pygments_lexer": "ipython3",
   "version": "3.12.3"
  }
 },
 "nbformat": 4,
 "nbformat_minor": 5
}

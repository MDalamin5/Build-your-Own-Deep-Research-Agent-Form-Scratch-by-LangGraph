{
 "cells": [
  {
   "cell_type": "code",
   "execution_count": 1,
   "id": "8fc6a5ce",
   "metadata": {},
   "outputs": [],
   "source": [
    "from langchain.chat_models import init_chat_model\n",
    "\n",
    "llm = init_chat_model(model=\"ollama:llama3.1\")"
   ]
  },
  {
   "cell_type": "code",
   "execution_count": 2,
   "id": "4c767165",
   "metadata": {},
   "outputs": [
    {
     "data": {
      "text/plain": [
       "AIMessage(content='It looks like you typed a test line! Is there something I can help you with or would you like to chat about something in particular?', additional_kwargs={}, response_metadata={'model': 'llama3.1', 'created_at': '2025-09-04T05:55:09.497259754Z', 'done': True, 'done_reason': 'stop', 'total_duration': 5517454283, 'load_duration': 4068050812, 'prompt_eval_count': 13, 'prompt_eval_duration': 233408199, 'eval_count': 29, 'eval_duration': 1214967573, 'model_name': 'llama3.1'}, id='run--d77329a5-3da0-47d7-a2ad-dd546d48927c-0', usage_metadata={'input_tokens': 13, 'output_tokens': 29, 'total_tokens': 42})"
      ]
     },
     "execution_count": 2,
     "metadata": {},
     "output_type": "execute_result"
    }
   ],
   "source": [
    "llm.invoke(\"tst line\")"
   ]
  },
  {
   "cell_type": "code",
   "execution_count": null,
   "id": "eb4bdd8c",
   "metadata": {},
   "outputs": [],
   "source": []
  }
 ],
 "metadata": {
  "kernelspec": {
   "display_name": "Build-your-Own-Deep-Research-Agent-Form-Scratch",
   "language": "python",
   "name": "python3"
  },
  "language_info": {
   "codemirror_mode": {
    "name": "ipython",
    "version": 3
   },
   "file_extension": ".py",
   "mimetype": "text/x-python",
   "name": "python",
   "nbconvert_exporter": "python",
   "pygments_lexer": "ipython3",
   "version": "3.12.3"
  }
 },
 "nbformat": 4,
 "nbformat_minor": 5
}

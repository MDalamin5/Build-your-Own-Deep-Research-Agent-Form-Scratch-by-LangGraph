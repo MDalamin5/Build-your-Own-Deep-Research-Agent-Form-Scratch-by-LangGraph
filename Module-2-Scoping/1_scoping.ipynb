{
 "cells": [
  {
   "cell_type": "markdown",
   "id": "ccdfc2ee",
   "metadata": {},
   "source": [
    "## **Scoping of the Agent**"
   ]
  },
  {
   "cell_type": "code",
   "execution_count": 1,
   "id": "2d299be2",
   "metadata": {},
   "outputs": [],
   "source": [
    "from prompt import clarify_with_user_instructions"
   ]
  },
  {
   "cell_type": "code",
   "execution_count": 3,
   "id": "066befa1",
   "metadata": {},
   "outputs": [],
   "source": [
    "%load_ext autoreload\n",
    "%autoreload 2"
   ]
  },
  {
   "cell_type": "code",
   "execution_count": 5,
   "id": "ab0ec327",
   "metadata": {},
   "outputs": [],
   "source": [
    "from utils import show_prompt"
   ]
  },
  {
   "cell_type": "code",
   "execution_count": 8,
   "id": "b8e03f8d",
   "metadata": {},
   "outputs": [
    {
     "name": "stdout",
     "output_type": "stream",
     "text": [
      "\u001b[34m╭─\u001b[0m\u001b[34m──────────────────\u001b[0m\u001b[34m \u001b[0m\u001b[1;32mClarify with_user_Instructions Prompt\u001b[0m\u001b[34m \u001b[0m\u001b[34m───────────────────\u001b[0m\u001b[34m─╮\u001b[0m\n",
      "\u001b[34m│\u001b[0m                                                                              \u001b[34m│\u001b[0m\n",
      "\u001b[34m│\u001b[0m                                                                              \u001b[34m│\u001b[0m\n",
      "\u001b[34m│\u001b[0m  These are the messages that have been exchanged so far from the user        \u001b[34m│\u001b[0m\n",
      "\u001b[34m│\u001b[0m  asking for the report:                                                      \u001b[34m│\u001b[0m\n",
      "\u001b[34m│\u001b[0m  \u001b[1;34m<Messages>\u001b[0m                                                                  \u001b[34m│\u001b[0m\n",
      "\u001b[34m│\u001b[0m  {messages}                                                                  \u001b[34m│\u001b[0m\n",
      "\u001b[34m│\u001b[0m  \u001b[1;34m</Messages>\u001b[0m                                                                 \u001b[34m│\u001b[0m\n",
      "\u001b[34m│\u001b[0m                                                                              \u001b[34m│\u001b[0m\n",
      "\u001b[34m│\u001b[0m  Today's date is {date}.                                                     \u001b[34m│\u001b[0m\n",
      "\u001b[34m│\u001b[0m                                                                              \u001b[34m│\u001b[0m\n",
      "\u001b[34m│\u001b[0m  Assess whether you need to ask a clarifying question, or if the user has    \u001b[34m│\u001b[0m\n",
      "\u001b[34m│\u001b[0m  already provided enough information for you to start research.              \u001b[34m│\u001b[0m\n",
      "\u001b[34m│\u001b[0m  IMPORTANT: If you can see in the messages history that you have already     \u001b[34m│\u001b[0m\n",
      "\u001b[34m│\u001b[0m  asked a clarifying question, you almost always do not need to ask another   \u001b[34m│\u001b[0m\n",
      "\u001b[34m│\u001b[0m  one. Only ask another question if ABSOLUTELY NECESSARY.                     \u001b[34m│\u001b[0m\n",
      "\u001b[34m│\u001b[0m                                                                              \u001b[34m│\u001b[0m\n",
      "\u001b[34m│\u001b[0m  If there are acronyms, abbreviations, or unknown terms, ask the user to     \u001b[34m│\u001b[0m\n",
      "\u001b[34m│\u001b[0m  clarify.                                                                    \u001b[34m│\u001b[0m\n",
      "\u001b[34m│\u001b[0m  If you need to ask a question, follow these guidelines:                     \u001b[34m│\u001b[0m\n",
      "\u001b[34m│\u001b[0m  - Be concise while gathering all necessary information                      \u001b[34m│\u001b[0m\n",
      "\u001b[34m│\u001b[0m  - Make sure to gather all the information needed to carry out the research  \u001b[34m│\u001b[0m\n",
      "\u001b[34m│\u001b[0m  task in a concise, well-structured manner.                                  \u001b[34m│\u001b[0m\n",
      "\u001b[34m│\u001b[0m  - Use bullet points or numbered lists if appropriate for clarity. Make      \u001b[34m│\u001b[0m\n",
      "\u001b[34m│\u001b[0m  sure that this uses markdown formatting and will be rendered correctly if   \u001b[34m│\u001b[0m\n",
      "\u001b[34m│\u001b[0m  the string output is passed to a markdown renderer.                         \u001b[34m│\u001b[0m\n",
      "\u001b[34m│\u001b[0m  - Don't ask for unnecessary information, or information that the user has   \u001b[34m│\u001b[0m\n",
      "\u001b[34m│\u001b[0m  already provided. If you can see that the user has already provided the     \u001b[34m│\u001b[0m\n",
      "\u001b[34m│\u001b[0m  information, do not ask for it again.                                       \u001b[34m│\u001b[0m\n",
      "\u001b[34m│\u001b[0m                                                                              \u001b[34m│\u001b[0m\n",
      "\u001b[34m│\u001b[0m  Respond in valid JSON format with these exact keys:                         \u001b[34m│\u001b[0m\n",
      "\u001b[34m│\u001b[0m  \"need_clarification\": boolean,                                              \u001b[34m│\u001b[0m\n",
      "\u001b[34m│\u001b[0m  \"question\": \"\u001b[1;34m<question to ask the user to clarify the report scope>\u001b[0m\",       \u001b[34m│\u001b[0m\n",
      "\u001b[34m│\u001b[0m  \"verification\": \"\u001b[1;34m<verification message that we will start research>\u001b[0m\"        \u001b[34m│\u001b[0m\n",
      "\u001b[34m│\u001b[0m                                                                              \u001b[34m│\u001b[0m\n",
      "\u001b[34m│\u001b[0m  If you need to ask a clarifying question, return:                           \u001b[34m│\u001b[0m\n",
      "\u001b[34m│\u001b[0m  \"need_clarification\": true,                                                 \u001b[34m│\u001b[0m\n",
      "\u001b[34m│\u001b[0m  \"question\": \"\u001b[1;34m<your clarifying question>\u001b[0m\",                                   \u001b[34m│\u001b[0m\n",
      "\u001b[34m│\u001b[0m  \"verification\": \"\"                                                          \u001b[34m│\u001b[0m\n",
      "\u001b[34m│\u001b[0m                                                                              \u001b[34m│\u001b[0m\n",
      "\u001b[34m│\u001b[0m  If you do not need to ask a clarifying question, return:                    \u001b[34m│\u001b[0m\n",
      "\u001b[34m│\u001b[0m  \"need_clarification\": false,                                                \u001b[34m│\u001b[0m\n",
      "\u001b[34m│\u001b[0m  \"question\": \"\",                                                             \u001b[34m│\u001b[0m\n",
      "\u001b[34m│\u001b[0m  \"verification\": \"\u001b[1;34m<acknowledgement message that you will now start research\u001b[0m  \u001b[34m│\u001b[0m\n",
      "\u001b[34m│\u001b[0m  \u001b[1;34mbased on the provided information>\u001b[0m\"                                         \u001b[34m│\u001b[0m\n",
      "\u001b[34m│\u001b[0m                                                                              \u001b[34m│\u001b[0m\n",
      "\u001b[34m│\u001b[0m  For the verification message when no clarification is needed:               \u001b[34m│\u001b[0m\n",
      "\u001b[34m│\u001b[0m  - Acknowledge that you have sufficient information to proceed               \u001b[34m│\u001b[0m\n",
      "\u001b[34m│\u001b[0m  - Briefly summarize the key aspects of what you understand from their       \u001b[34m│\u001b[0m\n",
      "\u001b[34m│\u001b[0m  request                                                                     \u001b[34m│\u001b[0m\n",
      "\u001b[34m│\u001b[0m  - Confirm that you will now begin the research process                      \u001b[34m│\u001b[0m\n",
      "\u001b[34m│\u001b[0m  - Keep the message concise and professional                                 \u001b[34m│\u001b[0m\n",
      "\u001b[34m│\u001b[0m                                                                              \u001b[34m│\u001b[0m\n",
      "\u001b[34m│\u001b[0m                                                                              \u001b[34m│\u001b[0m\n",
      "\u001b[34m╰──────────────────────────────────────────────────────────────────────────────╯\u001b[0m\n"
     ]
    }
   ],
   "source": [
    "show_prompt(clarify_with_user_instructions, \"Clarify with_user_Instructions Prompt\")"
   ]
  },
  {
   "cell_type": "code",
   "execution_count": null,
   "id": "93ddda22",
   "metadata": {},
   "outputs": [],
   "source": []
  }
 ],
 "metadata": {
  "kernelspec": {
   "display_name": "Build-your-Own-Deep-Research-Agent-Form-Scratch",
   "language": "python",
   "name": "python3"
  },
  "language_info": {
   "codemirror_mode": {
    "name": "ipython",
    "version": 3
   },
   "file_extension": ".py",
   "mimetype": "text/x-python",
   "name": "python",
   "nbconvert_exporter": "python",
   "pygments_lexer": "ipython3",
   "version": "3.12.3"
  }
 },
 "nbformat": 4,
 "nbformat_minor": 5
}
